{
 "cells": [
  {
   "cell_type": "code",
   "execution_count": null,
   "id": "4c3dd872",
   "metadata": {},
   "outputs": [],
   "source": [
    "\n",
    "print(\"You are presented with the following options : \")\n",
    "print(\" A : suits\\n B : power \\n C : vikings \\n D : vampire diaries \\n E : friends \\n F : game of thrones \\n \"\n",
    "      \"G : prison break\")\n",
    "best_series = \"game of thrones\"\n",
    "series = \"\"\n",
    "attempts = 0\n",
    "allowed_attempts = 4\n",
    "maxed_attempts = False\n",
    "\n",
    "while series != best_series and not maxed_attempts:\n",
    "    if attempts < allowed_attempts:\n",
    "        series = input(\"What is the best series ever created: \")\n",
    "        if series != best_series:\n",
    "            print(\"Wrong answer, Try again!\")\n",
    "        attempts += 1\n",
    "    else:\n",
    "        maxed_attempts = True\n",
    "\n",
    "name = input(\"Enter your name: \")\n",
    "if maxed_attempts:\n",
    "    print(\"You know nothing \" + name)\n",
    "else:\n",
    "    print(\"Welcome Throner \" + name)"
   ]
  },
  {
   "cell_type": "code",
   "execution_count": 2,
   "id": "3f95a645",
   "metadata": {},
   "outputs": [
    {
     "name": "stdout",
     "output_type": "stream",
     "text": [
      "Enter your name: Paul Nadola\n",
      "Hello Paul Nadola you are provided with the following options;\n",
      "A.Kygo\n",
      "B.Calvin Harris\n",
      "C.Martin Garrix\n",
      "D.Robin Schultz\n",
      "Who is the best composer: Robin Schultz\n",
      "Are you sure?\n",
      "Who is the best composer: Kygo\n",
      "That is the correct answer Paul Nadola\n"
     ]
    }
   ],
   "source": [
    "name = input('Enter your name: ')\n",
    "print('Hello ' + name + ' you are provided with the following options;')\n",
    "print('A.Kygo\\nB.Calvin Harris\\nC.Martin Garrix\\nD.Robin Schultz')\n",
    "the_goat = 'Kygo'\n",
    "goat = ''\n",
    "attempts = 0\n",
    "allowed_attempts = 2\n",
    "maxed_attempts = False\n",
    "\n",
    "while the_goat != goat and not maxed_attempts:\n",
    "    if attempts < allowed_attempts:\n",
    "        goat = input('Who is the best composer: ')\n",
    "        if goat != the_goat:\n",
    "            print('Are you sure?')\n",
    "        attempts += 1\n",
    "    else:\n",
    "        maxed_attempts = True\n",
    "\n",
    "if maxed_attempts:\n",
    "    print(name + input(' , the answer is Kygo'))\n",
    "\n",
    "else:\n",
    "    print('That is the correct answer ' + name + '!')"
   ]
  },
  {
   "cell_type": "code",
   "execution_count": null,
   "id": "64f89bde",
   "metadata": {},
   "outputs": [],
   "source": []
  }
 ],
 "metadata": {
  "kernelspec": {
   "display_name": "Python 3 (ipykernel)",
   "language": "python",
   "name": "python3"
  },
  "language_info": {
   "codemirror_mode": {
    "name": "ipython",
    "version": 3
   },
   "file_extension": ".py",
   "mimetype": "text/x-python",
   "name": "python",
   "nbconvert_exporter": "python",
   "pygments_lexer": "ipython3",
   "version": "3.9.13"
  }
 },
 "nbformat": 4,
 "nbformat_minor": 5
}
